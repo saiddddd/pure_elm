{
 "cells": [
  {
   "cell_type": "markdown",
   "id": "f53a6d11",
   "metadata": {},
   "source": [
    "# 1. ELM Pure"
   ]
  },
  {
   "cell_type": "code",
   "execution_count": null,
   "id": "6c4f109c",
   "metadata": {},
   "outputs": [],
   "source": []
  },
  {
   "cell_type": "code",
   "execution_count": 1,
   "id": "91f22e56",
   "metadata": {},
   "outputs": [],
   "source": [
    "import numpy as np\n",
    "from tensorflow.keras.datasets import mnist\n",
    "from tensorflow.keras.utils import to_categorical\n",
    "from matplotlib import pyplot as plt\n",
    "import random\n",
    "from model import ELM"
   ]
  },
  {
   "cell_type": "code",
   "execution_count": null,
   "id": "fba28e07",
   "metadata": {},
   "outputs": [],
   "source": []
  },
  {
   "cell_type": "code",
   "execution_count": 2,
   "id": "8c57c713",
   "metadata": {},
   "outputs": [],
   "source": [
    "# Network Settings\n",
    "num_classes = 10\n",
    "num_hidden_layers = 512\n",
    "input_length = 28**2"
   ]
  },
  {
   "cell_type": "code",
   "execution_count": null,
   "id": "161ccf47",
   "metadata": {},
   "outputs": [],
   "source": []
  },
  {
   "cell_type": "code",
   "execution_count": 3,
   "id": "ae055d9f",
   "metadata": {},
   "outputs": [],
   "source": [
    "# Load MNIST Dataset\n",
    "(x_train, y_train), (x_test, y_test) = mnist.load_data()\n",
    "\n",
    "# Process images into input vectors\n",
    "# each mnist image is a 28x28 picture with value ranges between 0 and 255\n",
    "x_train = x_train.astype(np.float32) / 255.\n",
    "x_train = x_train.reshape(-1, input_length)\n",
    "x_test = x_test.astype(np.float32) / 255.\n",
    "x_test = x_test.reshape(-1, input_length)\n",
    "\n",
    "# converts [1,2] into [[0,1,0], [0,0,1]]\n",
    "y_train = to_categorical(y_train, num_classes).astype(np.float32)\n",
    "y_test = to_categorical(y_test, num_classes).astype(np.float32)"
   ]
  },
  {
   "cell_type": "code",
   "execution_count": null,
   "id": "be72a901",
   "metadata": {},
   "outputs": [],
   "source": []
  },
  {
   "cell_type": "code",
   "execution_count": 4,
   "id": "acb8921e",
   "metadata": {},
   "outputs": [
    {
     "name": "stdout",
     "output_type": "stream",
     "text": [
      "Bias shape: (512,)\n",
      "W shape: (784, 512)\n",
      "Beta shape: (512, 10)\n"
     ]
    }
   ],
   "source": [
    "# create instance of our model\n",
    "model = ELM(\n",
    "    input_length,\n",
    "    num_hidden_layers,\n",
    "    num_classes\n",
    ")"
   ]
  },
  {
   "cell_type": "code",
   "execution_count": null,
   "id": "967c945f",
   "metadata": {},
   "outputs": [],
   "source": []
  },
  {
   "cell_type": "code",
   "execution_count": 5,
   "id": "61b3b674",
   "metadata": {},
   "outputs": [
    {
     "name": "stdout",
     "output_type": "stream",
     "text": [
      "Train time: 5.902353286743164\n",
      "Fit Beta shape: (512, 10)\n",
      "train loss: 0.014648\n",
      "train acc: 0.911300\n"
     ]
    }
   ],
   "source": [
    "# Train\n",
    "model.fit(x_train, y_train, display_time=True)\n",
    "train_loss, train_acc = model.evaluate(x_train, y_train)\n",
    "print('train loss: %f' % train_loss)\n",
    "print('train acc: %f' % train_acc)"
   ]
  },
  {
   "cell_type": "code",
   "execution_count": null,
   "id": "79897c05",
   "metadata": {},
   "outputs": [],
   "source": []
  },
  {
   "cell_type": "code",
   "execution_count": 6,
   "id": "6eed1ad7",
   "metadata": {},
   "outputs": [
    {
     "name": "stdout",
     "output_type": "stream",
     "text": [
      "val loss: 0.014451\n",
      "val acc: 0.916700\n"
     ]
    }
   ],
   "source": [
    "# Validation\n",
    "val_loss, val_acc = model.evaluate(x_test, y_test)\n",
    "print('val loss: %f' % val_loss)\n",
    "print('val acc: %f' % val_acc)"
   ]
  },
  {
   "cell_type": "code",
   "execution_count": null,
   "id": "d8aa138b",
   "metadata": {},
   "outputs": [],
   "source": []
  },
  {
   "cell_type": "code",
   "execution_count": 7,
   "id": "92a2639f",
   "metadata": {},
   "outputs": [
    {
     "data": {
      "image/png": "[encoded data removed]",
      "text/plain": [
       "<Figure size 1850x1050 with 5 Axes>"
      ]
     },
     "metadata": {},
     "output_type": "display_data"
    }
   ],
   "source": [
    "# Predictions\n",
    "test_data = x_test[np.random.choice(len(x_test), size=5, replace=False)]\n",
    "predictions = model(test_data)\n",
    "\n",
    "fig, axs = plt.subplots(1, 5)\n",
    "fig.set_size_inches(18.5, 10.5)\n",
    "for idx, image in enumerate(test_data):\n",
    "    image = np.array(image, dtype='float')\n",
    "    pixels = image.reshape((28, 28))\n",
    "    axs[idx].imshow(pixels, cmap='gray')\n",
    "    axs[idx].axes.get_yaxis().set_visible(False)\n",
    "    axs[idx].title.set_text(f'Predicted {np.argmax(predictions[idx])}')\n",
    "    axs[idx].set_xlabel(f'With prob: {str(round(np.max(predictions[idx]), 2))}')\n",
    "    \n",
    "    \n",
    "plt.show()"
   ]
  },
  {
   "cell_type": "code",
   "execution_count": null,
   "id": "f8f9a4a2",
   "metadata": {},
   "outputs": [],
   "source": []
  },
  {
   "cell_type": "markdown",
   "id": "57db57b0",
   "metadata": {},
   "source": [
    "# 2. ELM Test"
   ]
  },
  {
   "cell_type": "code",
   "execution_count": null,
   "id": "9d1905d8",
   "metadata": {},
   "outputs": [],
   "source": []
  },
  {
   "cell_type": "code",
   "execution_count": 8,
   "id": "da87d6d5",
   "metadata": {},
   "outputs": [],
   "source": [
    "import numpy as np\n",
    "from keras.datasets import mnist\n",
    "from keras.utils import to_categorical\n",
    "\n",
    "from model import ELM"
   ]
  },
  {
   "cell_type": "code",
   "execution_count": null,
   "id": "b0e12016",
   "metadata": {},
   "outputs": [],
   "source": []
  },
  {
   "cell_type": "code",
   "execution_count": 9,
   "id": "ff91912f",
   "metadata": {},
   "outputs": [],
   "source": [
    "def main():\n",
    "    num_classes = 10\n",
    "    num_hidden_layers = 1024\n",
    "    (x_train, y_train), (x_test, y_test) = mnist.load_data()\n",
    "\n",
    "    # Process images into input vectors\n",
    "    # each mnist image is a 28x28 picture with value ranges between 0 and 255\n",
    "    x_train = x_train.astype(np.float32) / 255.\n",
    "    x_train = x_train.reshape(-1, 28 ** 2)\n",
    "    x_test = x_test.astype(np.float32) / 255.\n",
    "    x_test = x_test.reshape(-1, 28 ** 2)\n",
    "\n",
    "    # converts [1,2] into [[0,1,0], [0,0,1]]\n",
    "    y_train = to_categorical(y_train, num_classes).astype(np.float32)\n",
    "    y_test = to_categorical(y_test, num_classes).astype(np.float32)\n",
    "\n",
    "    # create instance of our model\n",
    "    model = ELM(\n",
    "        28 ** 2, #number of features\n",
    "        num_hidden_layers,\n",
    "        num_classes\n",
    "    )\n",
    "\n",
    "    # Train\n",
    "    model.fit(x_train, y_train)\n",
    "    train_loss, train_acc = model.evaluate(x_train, y_train)\n",
    "    print('train loss: %f' % train_loss)\n",
    "    print('train acc: %f' % train_acc)\n",
    "\n",
    "    # Validation\n",
    "    val_loss, val_acc = model.evaluate(x_test, y_test)\n",
    "    print('val loss: %f' % val_loss)\n",
    "    print('val acc: %f' % val_acc)"
   ]
  },
  {
   "cell_type": "code",
   "execution_count": null,
   "id": "9c36f111",
   "metadata": {},
   "outputs": [],
   "source": []
  },
  {
   "cell_type": "code",
   "execution_count": 10,
   "id": "544454e9",
   "metadata": {},
   "outputs": [
    {
     "name": "stdout",
     "output_type": "stream",
     "text": [
      "Bias shape: (1024,)\n",
      "W shape: (784, 1024)\n",
      "Beta shape: (1024, 10)\n",
      "Fit Beta shape: (1024, 10)\n",
      "train loss: 0.011540\n",
      "train acc: 0.938233\n",
      "val loss: 0.011581\n",
      "val acc: 0.935100\n"
     ]
    }
   ],
   "source": [
    "if __name__ == '__main__':\n",
    "    main()"
   ]
  },
  {
   "cell_type": "code",
   "execution_count": 12,
   "id": "1d82231d",
   "metadata": {},
   "outputs": [
    {
     "data": {
      "text/plain": [
       "784"
      ]
     },
     "execution_count": 12,
     "metadata": {},
     "output_type": "execute_result"
    }
   ],
   "source": [
    "28 ** 2"
   ]
  },
  {
   "cell_type": "code",
   "execution_count": 13,
   "id": "f605421a",
   "metadata": {},
   "outputs": [
    {
     "data": {
      "text/plain": [
       "(60000, 784)"
      ]
     },
     "execution_count": 13,
     "metadata": {},
     "output_type": "execute_result"
    }
   ],
   "source": [
    "x_train.shape"
   ]
  },
  {
   "cell_type": "code",
   "execution_count": null,
   "id": "9b3d6a32",
   "metadata": {},
   "outputs": [],
   "source": []
  },
  {
   "cell_type": "code",
   "execution_count": 11,
   "id": "747e4f01",
   "metadata": {},
   "outputs": [
    {
     "data": {
      "text/plain": [
       "array([0., 0., 0., 0.])"
      ]
     },
     "execution_count": 11,
     "metadata": {},
     "output_type": "execute_result"
    }
   ],
   "source": [
    "np.zeros(shape=(4,))"
   ]
  },
  {
   "cell_type": "code",
   "execution_count": null,
   "id": "597097fa",
   "metadata": {},
   "outputs": [],
   "source": []
  },
  {
   "cell_type": "code",
   "execution_count": null,
   "id": "f7a15c01",
   "metadata": {},
   "outputs": [],
   "source": []
  },
  {
   "cell_type": "code",
   "execution_count": null,
   "id": "3090fac8",
   "metadata": {},
   "outputs": [],
   "source": []
  },
  {
   "cell_type": "code",
   "execution_count": null,
   "id": "4d9e6d0a",
   "metadata": {},
   "outputs": [],
   "source": []
  },
  {
   "cell_type": "code",
   "execution_count": null,
   "id": "1f77bfd1",
   "metadata": {},
   "outputs": [],
   "source": []
  },
  {
   "cell_type": "code",
   "execution_count": null,
   "id": "6771cedf",
   "metadata": {},
   "outputs": [],
   "source": []
  },
  {
   "cell_type": "code",
   "execution_count": null,
   "id": "f581ac2b",
   "metadata": {},
   "outputs": [],
   "source": []
  },
  {
   "cell_type": "code",
   "execution_count": null,
   "id": "f1a201f0",
   "metadata": {},
   "outputs": [],
   "source": []
  },
  {
   "cell_type": "code",
   "execution_count": null,
   "id": "3f29c0d5",
   "metadata": {},
   "outputs": [],
   "source": []
  },
  {
   "cell_type": "code",
   "execution_count": null,
   "id": "4373926b",
   "metadata": {},
   "outputs": [],
   "source": []
  },
  {
   "cell_type": "code",
   "execution_count": null,
   "id": "fb6a9f75",
   "metadata": {},
   "outputs": [],
   "source": []
  },
  {
   "cell_type": "code",
   "execution_count": null,
   "id": "02ae526e",
   "metadata": {},
   "outputs": [],
   "source": []
  },
  {
   "cell_type": "code",
   "execution_count": null,
   "id": "4518d610",
   "metadata": {},
   "outputs": [],
   "source": []
  },
  {
   "cell_type": "code",
   "execution_count": null,
   "id": "1851b850",
   "metadata": {},
   "outputs": [],
   "source": []
  },
  {
   "cell_type": "code",
   "execution_count": null,
   "id": "6d70e583",
   "metadata": {},
   "outputs": [],
   "source": []
  }
 ],
 "metadata": {
  "kernelspec": {
   "display_name": "Python 3 (ipykernel)",
   "language": "python",
   "name": "python3"
  },
  "language_info": {
   "codemirror_mode": {
    "name": "ipython",
    "version": 3
   },
   "file_extension": ".py",
   "mimetype": "text/x-python",
   "name": "python",
   "nbconvert_exporter": "python",
   "pygments_lexer": "ipython3",
   "version": "3.11.3"
  },
  "varInspector": {
   "cols": {
    "lenName": 16,
    "lenType": 16,
    "lenVar": 40
   },
   "kernels_config": {
    "python": {
     "delete_cmd_postfix": "",
     "delete_cmd_prefix": "del ",
     "library": "var_list.py",
     "varRefreshCmd": "print(var_dic_list())"
    },
    "r": {
     "delete_cmd_postfix": ") ",
     "delete_cmd_prefix": "rm(",
     "library": "var_list.r",
     "varRefreshCmd": "cat(var_dic_list()) "
    }
   },
   "types_to_exclude": [
    "module",
    "function",
    "builtin_function_or_method",
    "instance",
    "_Feature"
   ],
   "window_display": false
  }
 },
 "nbformat": 4,
 "nbformat_minor": 5
}
